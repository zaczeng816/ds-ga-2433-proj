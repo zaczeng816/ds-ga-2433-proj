{
 "cells": [
  {
   "cell_type": "code",
   "execution_count": 3,
   "metadata": {},
   "outputs": [],
   "source": [
    "import pandas as pd\n",
    "health_data = pd.read_csv('health_data.csv')"
   ]
  },
  {
   "cell_type": "code",
   "execution_count": 5,
   "metadata": {},
   "outputs": [
    {
     "name": "stdout",
     "output_type": "stream",
     "text": [
      "Model Performance:\n",
      "RMSE: $76.32\n",
      "R2 Score: 0.5127\n",
      "\n",
      "Feature Importance:\n",
      "                                            feature  importance\n",
      "5                                  has_hypertension    0.912061\n",
      "0                      healthCheckup_vitalSigns_bmi    0.033982\n",
      "3                healthCheckup_vitalSigns_pulseRate    0.014863\n",
      "4              healthCheckup_vitalSigns_temperature    0.014345\n",
      "2  healthCheckup_vitalSigns_bloodPressure_diastolic    0.013261\n",
      "1   healthCheckup_vitalSigns_bloodPressure_systolic    0.011487\n",
      "\n",
      "Sample Predictions vs Actual:\n",
      "     Actual   Predicted\n",
      "521  508.79  575.696472\n",
      "737  546.98  581.778931\n",
      "740  631.90  645.810730\n",
      "660  502.51  510.175781\n",
      "411  467.96  562.968506\n"
     ]
    }
   ],
   "source": [
    "import xgboost as xgb\n",
    "from sklearn.model_selection import train_test_split\n",
    "from sklearn.metrics import mean_squared_error, r2_score\n",
    "import numpy as np\n",
    "\n",
    "# Prepare features for the model\n",
    "features = [\n",
    "    'healthCheckup_vitalSigns_bmi',\n",
    "    'healthCheckup_vitalSigns_bloodPressure_systolic',\n",
    "    'healthCheckup_vitalSigns_bloodPressure_diastolic',\n",
    "    'healthCheckup_vitalSigns_pulseRate',\n",
    "    'healthCheckup_vitalSigns_temperature'\n",
    "]\n",
    "\n",
    "# Convert diagnosis to numeric feature (one-hot encoding)\n",
    "health_data['has_hypertension'] = health_data['medicalVisit_diagnosis_primary'].apply(\n",
    "    lambda x: 1 if 'Hypertension' in str(x) else 0\n",
    ")\n",
    "features.append('has_hypertension')\n",
    "\n",
    "# Prepare X and y\n",
    "X = health_data[features]\n",
    "y = health_data['monthly_premium']\n",
    "\n",
    "# Split the data\n",
    "X_train, X_test, y_train, y_test = train_test_split(X, y, test_size=0.2, random_state=42)\n",
    "\n",
    "# Train XGBoost model\n",
    "model = xgb.XGBRegressor(\n",
    "    objective='reg:squarederror',\n",
    "    n_estimators=100,\n",
    "    learning_rate=0.1,\n",
    "    max_depth=6,\n",
    "    random_state=42\n",
    ")\n",
    "\n",
    "model.fit(X_train, y_train)\n",
    "\n",
    "y_pred = model.predict(X_test)\n",
    "\n",
    "mse = mean_squared_error(y_test, y_pred)\n",
    "rmse = np.sqrt(mse)\n",
    "r2 = r2_score(y_test, y_pred)\n",
    "\n",
    "print(f\"Model Performance:\")\n",
    "print(f\"RMSE: ${rmse:.2f}\")\n",
    "print(f\"R2 Score: {r2:.4f}\")\n",
    "\n",
    "importance = pd.DataFrame({\n",
    "    'feature': features,\n",
    "    'importance': model.feature_importances_\n",
    "})\n",
    "importance = importance.sort_values('importance', ascending=False)\n",
    "print(\"\\nFeature Importance:\")\n",
    "print(importance)\n",
    "\n",
    "print(\"\\nSample Predictions vs Actual:\")\n",
    "sample_comparison = pd.DataFrame({\n",
    "    'Actual': y_test.head(),\n",
    "    'Predicted': y_pred[:5]\n",
    "})\n",
    "print(sample_comparison)"
   ]
  }
 ],
 "metadata": {
  "kernelspec": {
   "display_name": "torch",
   "language": "python",
   "name": "python3"
  },
  "language_info": {
   "codemirror_mode": {
    "name": "ipython",
    "version": 3
   },
   "file_extension": ".py",
   "mimetype": "text/x-python",
   "name": "python",
   "nbconvert_exporter": "python",
   "pygments_lexer": "ipython3",
   "version": "3.10.13"
  }
 },
 "nbformat": 4,
 "nbformat_minor": 2
}
